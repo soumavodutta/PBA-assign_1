{
 "cells": [
  {
   "cell_type": "markdown",
   "id": "97dbafcd",
   "metadata": {},
   "source": [
    "1. In the below elements which of them are values or an expression? eg:- values can be integer or string and expressions will be mathematical operators."
   ]
  },
  {
   "cell_type": "code",
   "execution_count": 2,
   "id": "9807802a",
   "metadata": {},
   "outputs": [],
   "source": [
    "#  *  :      expression  \n",
    "# 'hello' :  Value (str)\n",
    "# -87.8 :    Value (int)\n",
    "# - :        expression\n",
    "# / :        expression\n",
    "# +  :       expression\n",
    "# 6 :        Value (int)"
   ]
  },
  {
   "cell_type": "markdown",
   "id": "79d93be9",
   "metadata": {},
   "source": [
    "2. What is the difference between string and variable?"
   ]
  },
  {
   "cell_type": "code",
   "execution_count": 6,
   "id": "3688d946",
   "metadata": {},
   "outputs": [],
   "source": [
    "# Variable : A string is a type of value that can be stored in a variable. A string is made up of characters, \n",
    "#           and can include letters, words, phrases, or symbols. Strings hold groups of characters, like a word or a phrase.\n",
    "\n",
    "# String: String is a type of information you would store in a Variable. A string is the values inside the quotes"
   ]
  },
  {
   "cell_type": "markdown",
   "id": "472b28cd",
   "metadata": {},
   "source": [
    "3. Describe three different data types."
   ]
  },
  {
   "cell_type": "code",
   "execution_count": 7,
   "id": "e301495d",
   "metadata": {},
   "outputs": [],
   "source": [
    "# 1. Complex -  It has two parts, real and imaginary. Complex numbers are represented A+Bj , \n",
    "#               where A is real part and B is imaginary part.(ex- 7 + 8j)\n",
    "\n",
    "# 2. Float - The float type in Python represents the floating point number. Float is used to represent real numbers \n",
    "#            and is written with a decimal point dividing the integer and fractional parts. (ex- 89.90)\n",
    "\n",
    "\n",
    "# 3. Boolean - It has one of two possible values, denoted as true or false. (ex - True, false)"
   ]
  },
  {
   "cell_type": "markdown",
   "id": "b0c0a379",
   "metadata": {},
   "source": [
    "4. What is an expression made up of? What do all expressions do?\n"
   ]
  },
  {
   "cell_type": "code",
   "execution_count": 8,
   "id": "5a8c885c",
   "metadata": {},
   "outputs": [],
   "source": [
    "# An expression is a combination of values, variables, operators, and calls to functions.\n",
    "# Expressions are used to compute and to assign values to variables and to help control the execution flow of a program."
   ]
  },
  {
   "cell_type": "markdown",
   "id": "1fcc18bf",
   "metadata": {},
   "source": [
    "5. This assignment statements, like spam = 10. What is the difference between an expression and a statement?"
   ]
  },
  {
   "cell_type": "code",
   "execution_count": 9,
   "id": "b4af4456",
   "metadata": {},
   "outputs": [],
   "source": [
    "# Expression is a combination of values, variables, operators, and calls to functions.\n",
    "# Instructions that a Python interpreter can execute are called statements. (Ex x = 1)"
   ]
  },
  {
   "cell_type": "markdown",
   "id": "09a94414",
   "metadata": {},
   "source": [
    "6. After running the following code, what does the variable bacon contain?\n",
    "(bacon = 22\n",
    "bacon + 1)"
   ]
  },
  {
   "cell_type": "code",
   "execution_count": 10,
   "id": "b5bad874",
   "metadata": {},
   "outputs": [],
   "source": [
    "bacon = 22"
   ]
  },
  {
   "cell_type": "code",
   "execution_count": 11,
   "id": "5fbe99e7",
   "metadata": {},
   "outputs": [
    {
     "data": {
      "text/plain": [
       "23"
      ]
     },
     "execution_count": 11,
     "metadata": {},
     "output_type": "execute_result"
    }
   ],
   "source": [
    "bacon + 1"
   ]
  },
  {
   "cell_type": "code",
   "execution_count": 15,
   "id": "93dc9feb",
   "metadata": {},
   "outputs": [],
   "source": [
    "pass"
   ]
  },
  {
   "cell_type": "markdown",
   "id": "02c03b75",
   "metadata": {},
   "source": [
    "7. What should the values of the following two terms be?\n",
    "\n",
    "i. ('spam' + 'spamspam')\n",
    "ii. ('spam' * 3)\n"
   ]
  },
  {
   "cell_type": "code",
   "execution_count": 13,
   "id": "60bea280",
   "metadata": {},
   "outputs": [
    {
     "data": {
      "text/plain": [
       "'spamspamspam'"
      ]
     },
     "execution_count": 13,
     "metadata": {},
     "output_type": "execute_result"
    }
   ],
   "source": [
    "'spam' + 'spamspam'"
   ]
  },
  {
   "cell_type": "code",
   "execution_count": 14,
   "id": "07cb7c47",
   "metadata": {},
   "outputs": [
    {
     "data": {
      "text/plain": [
       "'spamspamspam'"
      ]
     },
     "execution_count": 14,
     "metadata": {},
     "output_type": "execute_result"
    }
   ],
   "source": [
    "'spam' * 3"
   ]
  },
  {
   "cell_type": "code",
   "execution_count": 17,
   "id": "eb83b590",
   "metadata": {},
   "outputs": [],
   "source": [
    "pass"
   ]
  },
  {
   "cell_type": "markdown",
   "id": "9bb70997",
   "metadata": {},
   "source": [
    "8. Why is eggs a valid variable name while 100 is invalid?"
   ]
  },
  {
   "cell_type": "code",
   "execution_count": 21,
   "id": "8e2fe7c3",
   "metadata": {},
   "outputs": [],
   "source": [
    "# Because we can  not write variable names with a number. (e:- 100eggs = Invalid, eggs100 = Valid)"
   ]
  },
  {
   "cell_type": "markdown",
   "id": "95debab1",
   "metadata": {},
   "source": [
    "9. What three functions can be used to get the integer, floating-point number, or string version of a value?"
   ]
  },
  {
   "cell_type": "code",
   "execution_count": 22,
   "id": "9beecf0d",
   "metadata": {},
   "outputs": [],
   "source": [
    "# i) integer: int()\n",
    "# ii) floating-point number : float() \n",
    "# iii) string : str()"
   ]
  },
  {
   "cell_type": "markdown",
   "id": "db3a168f",
   "metadata": {},
   "source": [
    "10. Why does this expression cause an error? How can you fix it?\n",
    "\n",
    "('I have eaten ' + 99 + ' burritos.')\n"
   ]
  },
  {
   "cell_type": "code",
   "execution_count": 23,
   "id": "a1793faf",
   "metadata": {},
   "outputs": [],
   "source": [
    "# This line is giving an error beacuse 'I have eaten' & 'burritos' are string, where 99 is an integer.\n",
    "# we have to write (\"I have eaten 99 burritos\")"
   ]
  },
  {
   "cell_type": "code",
   "execution_count": 24,
   "id": "060873ba",
   "metadata": {},
   "outputs": [
    {
     "data": {
      "text/plain": [
       "'I have eaten 99 burritos'"
      ]
     },
     "execution_count": 24,
     "metadata": {},
     "output_type": "execute_result"
    }
   ],
   "source": [
    "\"I have eaten 99 burritos\""
   ]
  },
  {
   "cell_type": "code",
   "execution_count": null,
   "id": "d5075265",
   "metadata": {},
   "outputs": [],
   "source": []
  }
 ],
 "metadata": {
  "kernelspec": {
   "display_name": "Python 3 (ipykernel)",
   "language": "python",
   "name": "python3"
  },
  "language_info": {
   "codemirror_mode": {
    "name": "ipython",
    "version": 3
   },
   "file_extension": ".py",
   "mimetype": "text/x-python",
   "name": "python",
   "nbconvert_exporter": "python",
   "pygments_lexer": "ipython3",
   "version": "3.9.7"
  }
 },
 "nbformat": 4,
 "nbformat_minor": 5
}
